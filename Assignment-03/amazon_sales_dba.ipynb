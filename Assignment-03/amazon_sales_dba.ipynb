{
 "cells": [
  {
   "cell_type": "markdown",
   "metadata": {},
   "source": [
    "### Experiment 1: Data Loading and Preprocessing"
   ]
  },
  {
   "cell_type": "code",
   "execution_count": null,
   "metadata": {},
   "outputs": [],
   "source": [
    "# import necessary libraries\n",
    "import pandas as pd\n",
    "import numpy as np\n",
    "import matplotlib.pyplot as plt\n",
    "\n",
    "# Add dataset to a dataframe\n",
    "db_path = 'Database/Amazon Sale Report.csv'\n",
    "df = pd.read_csv(db_path)\n",
    "\n",
    "# Print data info.\n",
    "print(\"Dataset Info:\", df.info())\n",
    "\n",
    "# Handle missing or NA/NAN values\n",
    "df.fillna(0, inplace=True);\n",
    "\n",
    "# Convert Date to Datetime object\n",
    "df['Date'] = pd.to_datetime(df['Date'])\n",
    "\n",
    "# Print cleaned dataset:\n",
    "print(\"\\nCleaned Dataset: \", df.head());"
   ]
  },
  {
   "cell_type": "markdown",
   "metadata": {},
   "source": [
    "### Experiment 5: Geographical Analysis"
   ]
  },
  {
   "cell_type": "code",
   "execution_count": null,
   "metadata": {},
   "outputs": [],
   "source": [
    "# Total sales by region\n",
    "region_sales = df.groupby('ship-state')['Amount'].sum().sort_values(ascending=False)\n",
    "print(\"Sales by Region:\")\n",
    "print(region_sales)\n",
    "\n",
    "# Visualizing regional sales\n",
    "region_sales.plot(kind='pie', autopct='%1.1f%%', figsize=(8, 8), startangle=90, colors=['skyblue', 'orange', 'lightgreen', 'pink', 'cyan', 'purple'])\n",
    "plt.title(\"Sales Distribution by Region\")\n",
    "plt.ylabel(\"\")\n",
    "plt.show()"
   ]
  },
  {
   "cell_type": "markdown",
   "metadata": {},
   "source": [
    "### Experiment 6: Deriving Insights and Recommendations"
   ]
  },
  {
   "cell_type": "code",
   "execution_count": null,
   "metadata": {},
   "outputs": [],
   "source": [
    "# Insights\n",
    "print(\"Insights:\")\n",
    "print(\"- Top customers contribute significantly to total revenue. Target them with loyalty programs.\")\n",
    "print(\"- High-performing products dominate sales. Consider increasing inventory for these products.\")\n",
    "print(\"- Seasonal trends indicate peak sales during certain months. Optimize marketing during these periods.\")\n",
    "print(\"- Regions with lower sales could benefit from targeted campaigns.\")"
   ]
  },
  {
   "cell_type": "code",
   "execution_count": null,
   "metadata": {},
   "outputs": [],
   "source": []
  }
 ],
 "metadata": {
  "kernelspec": {
   "display_name": "base",
   "language": "python",
   "name": "python3"
  },
  "language_info": {
   "codemirror_mode": {
    "name": "ipython",
    "version": 3
   },
   "file_extension": ".py",
   "mimetype": "text/x-python",
   "name": "python",
   "nbconvert_exporter": "python",
   "pygments_lexer": "ipython3",
   "version": "3.12.7"
  }
 },
 "nbformat": 4,
 "nbformat_minor": 2
}
