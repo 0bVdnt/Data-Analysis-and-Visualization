{
 "cells": [
  {
   "cell_type": "markdown",
   "metadata": {},
   "source": [
    "### Experiment 2: Customer Analysis"
   ]
  },
  {
   "cell_type": "code",
   "execution_count": null,
   "metadata": {},
   "outputs": [],
   "source": [
    "import numpy as np\n",
    "import pandas as pd\n",
    "import matplotlib.pyplot as plt\n",
    "\n",
    "df = pd.read_csv('Database/ecommerce_sales_data.csv')\n",
    "df.fillna(0, inplace=True)\n",
    "\n",
    "df['Purchase Date'] = pd.to_datetime(df['Purchase Date']);\n",
    "\n",
    "customer_analysis = df.groupby('Customer ID')['Total Sales'].sum().sort_values(ascending=False)\n",
    "print('Top 10 customers by Total Spend:')\n",
    "print(customer_analysis.head(10));\n",
    "\n",
    "customer_frequency = df.groupby('Customer ID').value_counts()\n",
    "print('Top 10 customers by Purchase Frequency:')\n",
    "print(customer_frequency.head(10))"
   ]
  },
  {
   "cell_type": "markdown",
   "metadata": {},
   "source": [
    "### Experiment 3: Product Analysis"
   ]
  },
  {
   "cell_type": "code",
   "execution_count": null,
   "metadata": {},
   "outputs": [],
   "source": [
    "product_sales = df.groupby('Product Name')['Quantity'].sum().sort_values(ascending=False)\n",
    "print(\"Top 10 Products sold: \")\n",
    "print(product_sales.head(10))\n",
    "\n",
    "top_products = product_sales.head(10)\n",
    "top_products.plot(kind='bar', figsize=(10, 10), color=['skyblue'])\n",
    "plt.title('Top 10 Products by Sales')\n",
    "plt.xlabel('Product Names')\n",
    "plt.ylabel('Total Sales')\n",
    "plt.xticks(rotation=45)\n",
    "plt.show()"
   ]
  },
  {
   "cell_type": "markdown",
   "metadata": {},
   "source": [
    "### Experiment 4: Time-Based Analysis"
   ]
  },
  {
   "cell_type": "code",
   "execution_count": null,
   "metadata": {},
   "outputs": [],
   "source": [
    "df['Month'] = df['Purchase Date'].dt.to_period('M')\n",
    "monthly_sales = df.groupby('Month')['Total Sales'].sum()\n",
    "\n",
    "monthly_sales.plot(kind='line', figsize=(10, 6), marker='.')\n",
    "plt.title('Monthly Sales Trend')\n",
    "plt.xlabel('Month')\n",
    "plt.ylabel('Total Sales')\n",
    "plt.grid()\n",
    "plt.show()"
   ]
  },
  {
   "cell_type": "code",
   "execution_count": null,
   "metadata": {},
   "outputs": [],
   "source": []
  }
 ],
 "metadata": {
  "kernelspec": {
   "display_name": "base",
   "language": "python",
   "name": "python3"
  },
  "language_info": {
   "codemirror_mode": {
    "name": "ipython",
    "version": 3
   },
   "file_extension": ".py",
   "mimetype": "text/x-python",
   "name": "python",
   "nbconvert_exporter": "python",
   "pygments_lexer": "ipython3",
   "version": "3.12.7"
  }
 },
 "nbformat": 4,
 "nbformat_minor": 2
}
