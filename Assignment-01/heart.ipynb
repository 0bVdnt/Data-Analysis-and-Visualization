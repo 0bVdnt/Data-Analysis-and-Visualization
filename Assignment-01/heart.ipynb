{
 "cells": [
  {
   "cell_type": "code",
   "execution_count": 2,
   "metadata": {},
   "outputs": [],
   "source": [
    "import pandas as pd\n",
    "from sklearn.preprocessing import MinMaxScaler"
   ]
  },
  {
   "cell_type": "code",
   "execution_count": 3,
   "metadata": {},
   "outputs": [],
   "source": [
    "# Step 1: Load Dataset\n",
    "file_path = 'Heart.csv'\n",
    "df = pd.read_csv(file_path)"
   ]
  },
  {
   "cell_type": "code",
   "execution_count": 4,
   "metadata": {},
   "outputs": [
    {
     "name": "stdout",
     "output_type": "stream",
     "text": [
      "Data Info:\n",
      "<class 'pandas.core.frame.DataFrame'>\n",
      "RangeIndex: 303 entries, 0 to 302\n",
      "Data columns (total 15 columns):\n",
      " #   Column      Non-Null Count  Dtype  \n",
      "---  ------      --------------  -----  \n",
      " 0   Unnamed: 0  303 non-null    int64  \n",
      " 1   Age         303 non-null    int64  \n",
      " 2   Sex         303 non-null    int64  \n",
      " 3   ChestPain   303 non-null    object \n",
      " 4   RestBP      303 non-null    int64  \n",
      " 5   Chol        303 non-null    int64  \n",
      " 6   Fbs         303 non-null    int64  \n",
      " 7   RestECG     303 non-null    int64  \n",
      " 8   MaxHR       303 non-null    int64  \n",
      " 9   ExAng       303 non-null    int64  \n",
      " 10  Oldpeak     303 non-null    float64\n",
      " 11  Slope       303 non-null    int64  \n",
      " 12  Ca          299 non-null    float64\n",
      " 13  Thal        301 non-null    object \n",
      " 14  AHD         303 non-null    object \n",
      "dtypes: float64(2), int64(10), object(3)\n",
      "memory usage: 35.6+ KB\n",
      "None\n",
      "\n",
      "Data Stats:\n",
      "       Unnamed: 0         Age         Sex      RestBP        Chol         Fbs  \\\n",
      "count  303.000000  303.000000  303.000000  303.000000  303.000000  303.000000   \n",
      "mean   152.000000   54.438944    0.679868  131.689769  246.693069    0.148515   \n",
      "std     87.612784    9.038662    0.467299   17.599748   51.776918    0.356198   \n",
      "min      1.000000   29.000000    0.000000   94.000000  126.000000    0.000000   \n",
      "25%     76.500000   48.000000    0.000000  120.000000  211.000000    0.000000   \n",
      "50%    152.000000   56.000000    1.000000  130.000000  241.000000    0.000000   \n",
      "75%    227.500000   61.000000    1.000000  140.000000  275.000000    0.000000   \n",
      "max    303.000000   77.000000    1.000000  200.000000  564.000000    1.000000   \n",
      "\n",
      "          RestECG       MaxHR       ExAng     Oldpeak       Slope          Ca  \n",
      "count  303.000000  303.000000  303.000000  303.000000  303.000000  299.000000  \n",
      "mean     0.990099  149.607261    0.326733    1.039604    1.600660    0.672241  \n",
      "std      0.994971   22.875003    0.469794    1.161075    0.616226    0.937438  \n",
      "min      0.000000   71.000000    0.000000    0.000000    1.000000    0.000000  \n",
      "25%      0.000000  133.500000    0.000000    0.000000    1.000000    0.000000  \n",
      "50%      1.000000  153.000000    0.000000    0.800000    2.000000    0.000000  \n",
      "75%      2.000000  166.000000    1.000000    1.600000    2.000000    1.000000  \n",
      "max      2.000000  202.000000    1.000000    6.200000    3.000000    3.000000  \n",
      "\n",
      "First 5 rows:\n",
      "   Unnamed: 0  Age  Sex     ChestPain  RestBP  Chol  Fbs  RestECG  MaxHR  \\\n",
      "0           1   63    1       typical     145   233    1        2    150   \n",
      "1           2   67    1  asymptomatic     160   286    0        2    108   \n",
      "2           3   67    1  asymptomatic     120   229    0        2    129   \n",
      "3           4   37    1    nonanginal     130   250    0        0    187   \n",
      "4           5   41    0    nontypical     130   204    0        2    172   \n",
      "\n",
      "   ExAng  Oldpeak  Slope   Ca        Thal  AHD  \n",
      "0      0      2.3      3  0.0       fixed   No  \n",
      "1      1      1.5      2  3.0      normal  Yes  \n",
      "2      1      2.6      2  2.0  reversable  Yes  \n",
      "3      0      3.5      3  0.0      normal   No  \n",
      "4      0      1.4      1  0.0      normal   No  \n"
     ]
    }
   ],
   "source": [
    "# Step 2: Inspect Data \n",
    "print('Data Info:')\n",
    "print(df.info())\n",
    "print('\\nData Stats:')\n",
    "print(df.describe())\n",
    "print('\\nFirst 5 rows:')\n",
    "print(df.head())"
   ]
  },
  {
   "cell_type": "code",
   "execution_count": 5,
   "metadata": {},
   "outputs": [
    {
     "data": {
      "text/plain": [
       "303"
      ]
     },
     "execution_count": 5,
     "metadata": {},
     "output_type": "execute_result"
    }
   ],
   "source": [
    "# Step 3: Save Data in Various Formats\n",
    "df.to_excel('dataset.xlsx', index=False)\n",
    "df.to_json('dataset.json', orient='records', indent=2)\n",
    "\n",
    "from sqlalchemy import create_engine\n",
    "engine = create_engine(\"sqlite:///:memory:\")\n",
    "df.to_sql('dataset', con=engine, index=False, if_exists='replace')"
   ]
  },
  {
   "cell_type": "code",
   "execution_count": 6,
   "metadata": {},
   "outputs": [],
   "source": [
    "# Step 4: Reload Data to Verify \n",
    "df_excel = pd.read_excel('dataset.xlsx')\n",
    "df_json = pd.read_json('dataset.json')\n",
    "df_sql = pd.read_sql('dataset', con=engine)"
   ]
  },
  {
   "cell_type": "code",
   "execution_count": 7,
   "metadata": {},
   "outputs": [
    {
     "name": "stdout",
     "output_type": "stream",
     "text": [
      "Cleaned Data:\n",
      "   Unnamed: 0       Age  Sex    RestBP      Chol  Fbs  RestECG     MaxHR  \\\n",
      "0    0.000000  0.708333  1.0  0.481132  0.244292  1.0      1.0  0.603053   \n",
      "1    0.003311  0.791667  1.0  0.622642  0.365297  0.0      1.0  0.282443   \n",
      "2    0.006623  0.791667  1.0  0.245283  0.235160  0.0      1.0  0.442748   \n",
      "3    0.009934  0.166667  1.0  0.339623  0.283105  0.0      0.0  0.885496   \n",
      "4    0.013245  0.250000  0.0  0.339623  0.178082  0.0      1.0  0.770992   \n",
      "\n",
      "   ExAng   Oldpeak  Slope        Ca  ChestPain_nonanginal  \\\n",
      "0    0.0  0.370968    1.0  0.000000                 False   \n",
      "1    1.0  0.241935    0.5  1.000000                 False   \n",
      "2    1.0  0.419355    0.5  0.666667                 False   \n",
      "3    0.0  0.564516    1.0  0.000000                  True   \n",
      "4    0.0  0.225806    0.0  0.000000                 False   \n",
      "\n",
      "   ChestPain_nontypical  ChestPain_typical  Thal_normal  Thal_reversable  \\\n",
      "0                 False               True        False            False   \n",
      "1                 False              False         True            False   \n",
      "2                 False              False        False             True   \n",
      "3                 False              False         True            False   \n",
      "4                  True              False         True            False   \n",
      "\n",
      "   AHD_Yes  \n",
      "0    False  \n",
      "1     True  \n",
      "2     True  \n",
      "3    False  \n",
      "4    False  \n"
     ]
    },
    {
     "name": "stderr",
     "output_type": "stream",
     "text": [
      "C:\\Users\\Vedant\\AppData\\Local\\Temp\\ipykernel_10608\\3505255572.py:3: FutureWarning: DataFrame.fillna with 'method' is deprecated and will raise in a future version. Use obj.ffill() or obj.bfill() instead.\n",
      "  df.fillna(method='ffill', inplace=True)\n"
     ]
    }
   ],
   "source": [
    "# Step 5: Clean and Prepare Data\n",
    "# Handle Missing Values\n",
    "df.fillna(method='ffill', inplace=True)\n",
    "# Remove Duplicates\n",
    "df.drop_duplicates(inplace=True)\n",
    "# Normalize Numerical Data \n",
    "scaler = MinMaxScaler()\n",
    "numerical_cols = df.select_dtypes(include=['number']).columns\n",
    "df[numerical_cols] = scaler.fit_transform(df[numerical_cols])\n",
    "# Encode Categorical Data\n",
    "df = pd.get_dummies(df, drop_first=True)\n",
    "# Final Dataset\n",
    "print('Cleaned Data:')\n",
    "print(df.head())\n",
    "# Save the cleaned dataset\n",
    "df.to_csv('cleaned_dataset.csv', index=False)"
   ]
  }
 ],
 "metadata": {
  "kernelspec": {
   "display_name": "base",
   "language": "python",
   "name": "python3"
  },
  "language_info": {
   "codemirror_mode": {
    "name": "ipython",
    "version": 3
   },
   "file_extension": ".py",
   "mimetype": "text/x-python",
   "name": "python",
   "nbconvert_exporter": "python",
   "pygments_lexer": "ipython3",
   "version": "3.12.7"
  }
 },
 "nbformat": 4,
 "nbformat_minor": 2
}
