{
 "cells": [
  {
   "cell_type": "code",
   "execution_count": null,
   "metadata": {},
   "outputs": [],
   "source": [
    "import pandas as pd\n",
    "from sklearn.preprocessing import MinMaxScaler"
   ]
  },
  {
   "cell_type": "code",
   "execution_count": null,
   "metadata": {},
   "outputs": [],
   "source": [
    "# Step 1: Load Dataset\n",
    "file_path = 'Dataset/Heart.csv'\n",
    "df = pd.read_csv(file_path)"
   ]
  },
  {
   "cell_type": "code",
   "execution_count": null,
   "metadata": {},
   "outputs": [],
   "source": [
    "# Step 2: Inspect Data \n",
    "print('Data Info:')\n",
    "print(df.info())\n",
    "print('\\nData Stats:')\n",
    "print(df.describe())\n",
    "print('\\nFirst 5 rows:')\n",
    "print(df.head())"
   ]
  },
  {
   "cell_type": "code",
   "execution_count": null,
   "metadata": {},
   "outputs": [],
   "source": [
    "# Step 3: Save Data in Various Formats\n",
    "df.to_excel('dataset.xlsx', index=False)\n",
    "df.to_json('dataset.json', orient='records', indent=2)\n",
    "\n",
    "from sqlalchemy import create_engine\n",
    "engine = create_engine(\"sqlite:///:memory:\")\n",
    "df.to_sql('dataset', con=engine, index=False, if_exists='replace')"
   ]
  },
  {
   "cell_type": "code",
   "execution_count": null,
   "metadata": {},
   "outputs": [],
   "source": [
    "# Step 4: Reload Data to Verify \n",
    "df_excel = pd.read_excel('dataset.xlsx')\n",
    "df_json = pd.read_json('dataset.json')\n",
    "df_sql = pd.read_sql('dataset', con=engine)"
   ]
  },
  {
   "cell_type": "code",
   "execution_count": null,
   "metadata": {},
   "outputs": [],
   "source": [
    "# Step 5: Clean and Prepare Data\n",
    "# Handle Missing Values\n",
    "df.fillna(method='ffill', inplace=True)\n",
    "# Remove Duplicates\n",
    "df.drop_duplicates(inplace=True)\n",
    "# Normalize Numerical Data \n",
    "scaler = MinMaxScaler()\n",
    "numerical_cols = df.select_dtypes(include=['number']).columns\n",
    "df[numerical_cols] = scaler.fit_transform(df[numerical_cols])\n",
    "# Encode Categorical Data\n",
    "df = pd.get_dummies(df, drop_first=True)\n",
    "# Final Dataset\n",
    "print('Cleaned Data:')\n",
    "print(df.head())\n",
    "# Save the cleaned dataset\n",
    "df.to_csv('cleaned_dataset.csv', index=False)"
   ]
  }
 ],
 "metadata": {
  "kernelspec": {
   "display_name": "base",
   "language": "python",
   "name": "python3"
  },
  "language_info": {
   "codemirror_mode": {
    "name": "ipython",
    "version": 3
   },
   "file_extension": ".py",
   "mimetype": "text/x-python",
   "name": "python",
   "nbconvert_exporter": "python",
   "pygments_lexer": "ipython3",
   "version": "3.12.7"
  }
 },
 "nbformat": 4,
 "nbformat_minor": 2
}
